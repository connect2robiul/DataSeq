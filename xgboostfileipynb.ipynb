{
  "nbformat": 4,
  "nbformat_minor": 0,
  "metadata": {
    "colab": {
      "name": "xgboostfileipynb",
      "private_outputs": true,
      "provenance": []
    },
    "kernelspec": {
      "name": "python3",
      "display_name": "Python 3"
    },
    "language_info": {
      "name": "python"
    }
  },
  "cells": [
    {
      "cell_type": "code",
      "execution_count": null,
      "metadata": {
        "id": "nDBwViisQVkj"
      },
      "outputs": [],
      "source": [
        "!pip install shap\n",
        "!pip install xgboost"
      ]
    },
    {
      "cell_type": "code",
      "source": [
        "import pandas as pd\n",
        "df = pd.read_csv(\"https://raw.githubusercontent.com/connect2robiul/CSVfile/master/GGS_new.csv\",sep=\";\")\n",
        "df.head()"
      ],
      "metadata": {
        "id": "pJGy-tMoQbyd"
      },
      "execution_count": null,
      "outputs": []
    },
    {
      "cell_type": "code",
      "source": [
        "df[\"relig\"] = df[\"relig\"]+1\n",
        "df[\"relig_type\"] = df[\"relig_type\"]+1\n",
        "df[\"relig_fre\"] = df[\"relig_fre\"]+1\n",
        "df[[\"relig\",\"relig_type\",\"relig_fre\"]] = df[[\"relig\",\"relig_type\",\"relig_fre\"]].fillna(0)\n",
        "df[\"relig\"] = df[\"relig\"].astype(int)\n",
        "df[\"relig_type\"] = df[\"relig_type\"].astype(int)\n",
        "df[\"relig_fre\"] = df[\"relig_fre\"].astype(int)\n",
        "df = df.fillna(\"Data_is_missing\")\n",
        "df[\"gen_binary\"] = df[\"generations\"].map({1:1,2:1,3:1,4:1,5:2,6:2})  # 1 is Soviet and 2 is Non-Soviet\n",
        "df = df.drop([\"ID\",\"sg\",\"sge\",\"sgl\",\"age\",\"generations2\",\"generations\"],axis=1)\n",
        "df.head()"
      ],
      "metadata": {
        "id": "dFKTqxzxQb2I"
      },
      "execution_count": null,
      "outputs": []
    },
    {
      "cell_type": "code",
      "source": [
        "object_col = df.select_dtypes(exclude='object').columns.tolist()"
      ],
      "metadata": {
        "id": "-NW4FMkAQ01O"
      },
      "execution_count": null,
      "outputs": []
    },
    {
      "cell_type": "code",
      "source": [
        "from sklearn.preprocessing import LabelEncoder\n",
        "df_new = df.select_dtypes(include='object').apply(LabelEncoder().fit_transform)\n",
        "df_new.head()"
      ],
      "metadata": {
        "id": "GwQOksemQ401"
      },
      "execution_count": null,
      "outputs": []
    },
    {
      "cell_type": "code",
      "source": [
        "from sklearn.preprocessing import LabelEncoder\n",
        "df_new = df.select_dtypes(include='object').apply(LabelEncoder().fit_transform)\n",
        "df_new.head()"
      ],
      "metadata": {
        "id": "vv7djfCLQ9S2"
      },
      "execution_count": null,
      "outputs": []
    },
    {
      "cell_type": "code",
      "source": [
        "oject_col =df.select_dtypes(include='object').columns.tolist()\n",
        "for col in oject_col:\n",
        "    df[col] = df_new[col]\n",
        "df.head()"
      ],
      "metadata": {
        "id": "M0TA7BqTQ_X2"
      },
      "execution_count": null,
      "outputs": []
    },
    {
      "cell_type": "code",
      "source": [
        "df_xgboost = df.copy()"
      ],
      "metadata": {
        "id": "vutdyxQ_RBo7"
      },
      "execution_count": null,
      "outputs": []
    },
    {
      "cell_type": "code",
      "source": [
        "LEARNING_RATE = [0.001,0.01,0.1,.3,.5,1]\n",
        "EVAL_METRIC = ['auc']\n",
        "SEED = 0\n",
        "CV = 5\n",
        "MAX_DEPTH = [2,3,4,5,6]\n",
        "ITTERATION = [5000]\n",
        "EARLY_STOP = [50]\n",
        "VERBOSE = 20"
      ],
      "metadata": {
        "id": "m3wFrW8FRBqU"
      },
      "execution_count": null,
      "outputs": []
    },
    {
      "cell_type": "code",
      "source": [
        "from sklearn.model_selection import train_test_split \n",
        "import xgboost as xgb\n",
        "df_new = df_xgboost.copy()\n",
        "col = \"gen_binary\"\n",
        "y = df_new[col]\n",
        "X = df_new.drop(col,axis=1)\n",
        "data_dmatrix = xgb.DMatrix(data=X,label=y)\n",
        "X_train, X_test, y_train, y_test = train_test_split(X, y, test_size=0.2, random_state=42)"
      ],
      "metadata": {
        "id": "j7H2CtAsRFo_"
      },
      "execution_count": null,
      "outputs": []
    },
    {
      "cell_type": "code",
      "source": [
        "from xgboost import XGBClassifier\n",
        "from sklearn.model_selection import GridSearchCV\n",
        "\n",
        "clf_xgboost = XGBClassifier(\n",
        "    objective= 'binary:logistic',\n",
        "    nthread=4,\n",
        "    seed= SEED \n",
        ")\n",
        "param_xgboost = {\n",
        "    'max_depth': MAX_DEPTH,\n",
        "    'n_estimators': ITTERATION,\n",
        "    'learning_rate': LEARNING_RATE ,\n",
        "    'eval_metric' : EVAL_METRIC ,\n",
        "    'early_stopping_rounds' : EARLY_STOP\n",
        "}\n",
        "GridSearch_Xgboost = GridSearchCV(\n",
        "    estimator=clf_xgboost,\n",
        "    param_grid=param_xgboost,\n",
        "    cv = CV,\n",
        "    verbose=VERBOSE\n",
        ")\n",
        "\n",
        "results_Xgboost = GridSearch_Xgboost.fit(X_train,y_train)"
      ],
      "metadata": {
        "id": "mUlv6EpeRFqW"
      },
      "execution_count": null,
      "outputs": []
    },
    {
      "cell_type": "code",
      "source": [
        "results_Xgboost.best_params_"
      ],
      "metadata": {
        "id": "L5A9N6aSRBsB"
      },
      "execution_count": null,
      "outputs": []
    },
    {
      "cell_type": "code",
      "source": [
        "results_Xgboost.best_estimator_"
      ],
      "metadata": {
        "id": "90Z15L-wRQvj"
      },
      "execution_count": null,
      "outputs": []
    },
    {
      "cell_type": "code",
      "source": [
        "y_pred = results_Xgboost.best_estimator_.predict(X_test)"
      ],
      "metadata": {
        "id": "NLQnDqRARVE8"
      },
      "execution_count": null,
      "outputs": []
    },
    {
      "cell_type": "code",
      "source": [
        "from sklearn.metrics import accuracy_score\n",
        "from sklearn.metrics import precision_score\n",
        "from sklearn.metrics import recall_score\n",
        "from sklearn.metrics import f1_score\n",
        "print(accuracy_score(y_test, y_pred) , \"accuracy_score\")\n",
        "print(precision_score(y_test, y_pred) , 'precision_score')\n",
        "print(recall_score(y_test, y_pred), \"printrecall_score\")\n",
        "print(f1_score(y_test, y_pred) , \"f1_score\")"
      ],
      "metadata": {
        "id": "Pf7BSpERRWd8"
      },
      "execution_count": null,
      "outputs": []
    },
    {
      "cell_type": "code",
      "source": [
        "import shap\n",
        "shap.initjs()\n",
        "explainer = shap.TreeExplainer(results_Xgboost.best_estimator_)\n",
        "shap_values = explainer.shap_values(X)\n",
        "shap.summary_plot(shap_values, X)"
      ],
      "metadata": {
        "id": "Rn8Vh-KdRbh9"
      },
      "execution_count": null,
      "outputs": []
    },
    {
      "cell_type": "code",
      "source": [
        ""
      ],
      "metadata": {
        "id": "wy1gD-v2Rbjm"
      },
      "execution_count": null,
      "outputs": []
    }
  ]
}